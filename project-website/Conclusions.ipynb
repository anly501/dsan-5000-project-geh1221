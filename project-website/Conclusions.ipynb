{
 "cells": [
  {
   "attachments": {},
   "cell_type": "markdown",
   "metadata": {},
   "source": [
    "---\n",
    "title: Conclusions\n",
    "jupyter: python3\n",
    "author: \"Grace Hyland\"\n",
    "format:\n",
    "  html:\n",
    "    code-fold: true\n",
    "editor: visual\n",
    "---"
   ]
  },
  {
   "attachments": {},
   "cell_type": "markdown",
   "metadata": {},
   "source": [
    "# Conclusions"
   ]
  },
  {
   "attachments": {},
   "cell_type": "markdown",
   "metadata": {},
   "source": [
    "The power play is universally considered one of the most important parts of the game of hockey by most hockey fans. However, in my background research on the topic of analytical approaches to understanding and predicting hockey results I found that the action that occurs during power play minutes in NHL games is understudied and underutilized. In this portfolio I attempted to answer some questions about what we can learn from data from power plays and how this can be applied to a greater understanding of the quality of NHL teams. In this section I will summarize the results from the many methods I applied to answering these questions.\n",
    "\n",
    "## Data Exploration\n",
    "\n",
    "From performing preliminary data analysis, I learned that most of the traditional and simple modern hockey performance metrics have higher values for the same player in power play situations compared to regular play situations. Consequently, I concluded that power play time is very different play from regular situation play and this conclusion was corroborated by the demonstration that metrics during power play time are not necessarily correlated with that same metric during regular play time for a given player. \n",
    "\n",
    "The other major conclusion from the data exploration process was that team success measured by final standings points does appear to be correlated with power play success (measured in both total power play goals scored and power play success rate). This conclusion supports the idea that evaluating power play data can be very useful in creating a better data backed understanding of what a good NHL team is.\n",
    "\n",
    "## Naive Bayes Model\n",
    "\n",
    "Following the exploratory data analysis process, I used a Naive Bayes classification machine learning model to predict whether or not a team would make the playoffs based on team expected goals percentage, Corsi, goals for, hits, takeaways, faceoffs won, giveaways, and shot attempts. \n",
    "\n",
    "Constructiing a model with both regular and power play data using both feature selection and no feature selection led to the following conclusions:\n",
    "\n",
    "The models that used all eight features had a higher accuracy and precision when using power play data to predict playoff berths than regular data so team play during a power play may be more predictive of playoff success than regular situation play.\n",
    "\n",
    "When using feature selection, the model that used regular play data had slightly higher accuracy but lower precision than the model that used power play data. Additionally, the power play data model did not use as many features to achieve these metrics. Therefore, using power play data with feature selection may create the best model when considering computational efficiency and preventing overfitting when applying to a large data set.\n",
    "\n",
    "## Clustering\n",
    "\n",
    "Using clustering models on the team data with the features mentioned above revealed that there are three clear groups of teams that are more similar to each other than they are to other teams. These groupings did not line up with the labels I used for ranges of final standing points, but they did reveal that the bottom teams in the league standings that earned fewer than 80 points are more similar to each other based on these metrics during power plays than they are to any other teams in different point ranges. However, middle tier teams and top tier teams based on standings points may be more similar to each other than it appears based on standings.\n",
    "\n",
    "## Decision Trees\n",
    "\n",
    "Creating and tuning a decision tree that predicts whether a team will make the playoffs based on metrics from power play data revealed that a major factor that separates playoff teams from non-playoff teams is team expected goal percentage on the power play. This makes sense when considering the importance of scoring goals on power plays that we determined during the exploratory data analysis process. \n",
    "\n",
    "The other conclusion gathered from the decision tree fitting process was that it is easier to predict from these metrics which teams will not make the playoffs than it is to properly classify teams that do not make the playoffs. This is consistent with the conclusion from the clustering tab that bottom tier teams are very similar to each other, but at the middle and top of the pack their is a great deal of parity."
   ]
  },
  {
   "attachments": {},
   "cell_type": "markdown",
   "metadata": {},
   "source": [
    "# Future Directions\n",
    "\n",
    "Going off of the major conclusion about the parity between teams that are not considered bottom tier, in future work I would like to look more specifically at teams that are on the borderline between making the playoffs and missing the playoffs to see if there are any clear differences.\n",
    "\n",
    "One thing I could do is take team data from more seasons and only include observations from teams that are neither eliminated nor guaranteed for the playoffs a month before the regular season ends. With this data, I could tune models such as Naive Bayes classifiers and decision trees to to predict which teams will end up making the playoffs and determine which factors are most important.\n",
    "\n",
    "Another future goal is to use try to determine labels for the clusters that were generated on the clustering tab. The points ranges I initially used to label the data could be modified to be more in line with the differences in the quality of the teams."
   ]
  }
 ],
 "metadata": {
  "language_info": {
   "name": "python"
  },
  "orig_nbformat": 4
 },
 "nbformat": 4,
 "nbformat_minor": 2
}
