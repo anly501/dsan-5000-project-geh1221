{
  "cells": [
    {
      "cell_type": "raw",
      "metadata": {},
      "source": [
        "---\n",
        "title: Introduction\n",
        "author: Grace Hyland\n",
        "format:\n",
        "  html:\n",
        "    code-fold: true\n",
        "editor: visual\n",
        "bibliography: references.bib\n",
        "---"
      ]
    },
    {
      "cell_type": "markdown",
      "metadata": {},
      "source": [
        "In recent decades, the time and attention put into understanding sports using data and modeling has greatly increased for all sports. The earliest adopting sport was baseball and some close followers have been American football and basketball. The sport of ice hockey took longer to adopt the practice relative to the others. One of the proposed reasons for this is that there are specific challenges that come with trying to collect and analyze data from hockey.\n",
        "\n",
        "These challenges include the infrequency of scoring events, the continuity of game play, and frequent substitutions. Ice hockey is one of the lowest scoring sports, especially compared to the likes of football and basketball. It is not uncommon for games to have fewer than two or three total goals scored. Given this, it can be hard to quantify the impact of each player on the success of their team and the impact that an individual play can have on a game's outcome without creating more advanced statistical evaluation tools. It is as a result of this fact that the game of hockey is rather continuous compared to the discrete nature of sports such as football and baseball. Without a high number of scoring events, play is much less frequently halted so it is more difficult to classify events as individual plays. Additionally, the lack of stoppages in play mean that players are substituted in the middle of plays and events. This in combination with the very short length of shifts (typically under a minute) contribute to the difficulty of isolating the impact of players on the results of the game.\n",
        "\n",
        "Nonetheless, steps have been taken over the past two decades to improve the state of hockey analytics. At the beginning of the sport, the goals and assists by players were recorded by officials and coaches and for a long time that was the only data collected on the game. The earliest attempt at an advanced statistic in hockey was plus-minus. Plus-minus is calculated for each player by adding the goals scored for the team while the player is on the ice and subtracting the goals scored against the team while the player is on the ice. Plus-minus runs into the same issue as many statistics in hockey where it is difficult to separate individual players' contributions and strengths from the overall strength of their team and their line because players are usually on the ice with the same people at the same time.\n",
        "\n",
        "Around the mid 2000s, people began to look beyond goals scored and allowed as the only data points that can be used to evaluate players. Some of the other factors considered are shots taken, penalty differential, quality of opponents, and the usage of players based on the zone location of the puck when they are deployed. One of the early popular evaluation metrics was Corsi. Corsi is calculated by taking the sum of shots on goal, missed shots, and blocked shots. In following years Corsi was modified to different iterations that account for some of the problems with the original metric such as Corsi relative (compares individual player to the rest of their team), Corsi close (only considers situations where the game is within one goal), and score adjusted Corsi (places shot attempts in the context of expectations based on the current score.) The major problem that remained after these adjustments is that the metric still doesn't account for the quality of the shots taken.\n",
        "\n",
        "More recent research into hockey analytics metrics have focused on shot quality and expected goals. Shot quality was first brought up in 2004 and was found by cataloguing shot types and whether or not they were rebounds. Goal probability curves were fit to the shot types. The expected goal metric comes from summing the total goal probabilities. More modern research has focused on improving the expected goals model. Brian Macdonald (2012) created an expected goals metric using least squares regression and ridge regression models. In 2015, Sprigings and Toumi made a model that incorporated shot type, shot angle, distance from net, whether the shooter was shooting off their strong side, and a value of the player's shooting talent.\n",
        "\n",
        "These new metrics have advanced analytics applications to the sport of hockey and have shown predictive power when looking at team and player success. However, often times a very important aspect of play in hockey is overlooked when applying these metrics: power plays and penalty kills.\n",
        "\n",
        "Power plays and penalty kills (together called special teams opportunities) are scenarios in which one team has an extra player on the ice compared to the other after a penalty. These scenarios vary a lot game to game which is why they are excluded from metrics, but they also are very important parts of the game outcome. About one third of goals scored in hockey games come from power plays (33.5% of goals in the olympics; 29% of goals in Finland's hockey league). In this project I would like to explore the impact that power plays and penalty kills have on the outcome of games and seek answers to the question of how a coach should best approach special teams situations. I will look to address the following questions:\n",
        "\n",
        "1.  How does a team's rate of power play goal success relate to their regular season success?\n",
        "2.  How does a team's rate of penalty kill goals allowed relate to their regular season success?\n",
        "3.  Are these relationships the same for post season success?\n",
        "4.  What kind of personnel can be used in special teams situations?\n",
        "5.  How do player success metrics outside of special teams opportunities relate to their success in special teams opportunities?\n",
        "6.  How does incorporating data from special teams opportunities into overall season metrics affect the predictivity of the metrics?\n",
        "7.  Which player attributes are most important for power play success?\n",
        "8.  Which player attributes are most important for penalty kill success?\n",
        "9.  What effect does a successful power play have on winning the game?\n",
        "10. What effect does a successful penalty kill have on winning the game?\n",
        "\n",
        "## References\n",
        "\n",
        "[@nandakumar2019]\n",
        "\n",
        "[@Macdonald2012AnEG]"
      ]
    }
  ],
  "metadata": {
    "kernelspec": {
      "name": "python3",
      "language": "python",
      "display_name": "Python 3 (ipykernel)"
    }
  },
  "nbformat": 4,
  "nbformat_minor": 4
}